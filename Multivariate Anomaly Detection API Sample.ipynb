{
 "cells": [
  {
   "cell_type": "code",
   "execution_count": null,
   "id": "39255cbd",
   "metadata": {},
   "outputs": [],
   "source": [
    "import requests\n",
    "import json"
   ]
  },
  {
   "cell_type": "code",
   "execution_count": null,
   "id": "f0fa7405",
   "metadata": {},
   "outputs": [],
   "source": [
    "# The ENDPOINT should be like: https://mvad-sample.cognitiveservices.azure.com/anomalydetector/v1.1\n",
    "ENDPOINT = \"{Your endpoint of Anomaly Detector resource}anomalydetector/v1.1\"\n",
    "HEADERS = {\n",
    "    \"Ocp-Apim-Subscription-Key\": \"{Your key of Anomaly Detector resource.}\"\n",
    "}\n",
    "# The data source url should be like: https://mvaddataset.blob.core.windows.net/sample-multitable/sample_data_5_300\n",
    "DATA_SOURCE_URL= \"{The Blob URL for your data.}\""
   ]
  },
  {
   "cell_type": "code",
   "execution_count": null,
   "id": "1cbb4993",
   "metadata": {},
   "outputs": [],
   "source": [
    "API_MODEL = \"{endpoint}/multivariate/models\"\n",
    "API_MODEL_STATUS = \"{endpoint}/multivariate/models/{model_id}\"\n",
    "API_MODEL_BATCH_INFERENCE = \"{endpoint}/multivariate/models/{model_id}:detect-batch\"\n",
    "API_MODEL_LAST_INFERENCE = \"{endpoint}/multivariate/models/{model_id}:detect-last\"\n",
    "API_RESULTS = \"{endpoint}/multivariate/detect-batch/{result_id}\"\n",
    "API_DELETE = \"{endpoint}/multivariate/models/{model_id}\""
   ]
  },
  {
   "cell_type": "markdown",
   "id": "50c84aac",
   "metadata": {},
   "source": [
    "# Train a model"
   ]
  },
  {
   "cell_type": "code",
   "execution_count": null,
   "id": "c1c96fb5",
   "metadata": {},
   "outputs": [],
   "source": [
    "# You could change the parameters in the payload to test the API. 👻\n",
    "SLIDING_WINDOW = 200\n",
    "data = {\n",
    "    \"slidingWindow\": SLIDING_WINDOW,\n",
    "    \"alignPolicy\": {\n",
    "        \"alignMode\": \"Outer\",\n",
    "        \"fillNAMethod\": \"Linear\", \n",
    "        \"paddingValue\": 0\n",
    "    },\n",
    "    \"dataSource\": DATA_SOURCE_URL,\n",
    "    \"dataSchema\": \"MultiTable\",\n",
    "    \"startTime\": \"2021-01-01T00:00:00Z\", \n",
    "    \"endTime\": \"2021-01-02T09:19:00Z\", \n",
    "    \"displayName\": \"SampleRequest\"\n",
    "}\n",
    "\n",
    "res = requests.post(API_MODEL.format(endpoint=ENDPOINT), data=json.dumps(data), headers=HEADERS)\n",
    "assert res.status_code == 201, f\"Error occured. Error message: {res.content}\"\n",
    "print(res.content)\n",
    "location = res.headers['Location']\n",
    "print(location)\n",
    "model_id = location[location.rindex('/')+1:]\n",
    "print(model_id)"
   ]
  },
  {
   "cell_type": "markdown",
   "id": "c7b74307",
   "metadata": {},
   "source": [
    "# Get model status"
   ]
  },
  {
   "cell_type": "code",
   "execution_count": null,
   "id": "90e5b86c",
   "metadata": {},
   "outputs": [],
   "source": [
    "res = requests.get(API_MODEL_STATUS.format(endpoint=ENDPOINT, model_id = model_id), headers=HEADERS)\n",
    "assert res.status_code == 200, f\"Error occured. Error message: {res.content}\"\n",
    "res_content = json.loads(res.content)\n",
    "print(json.dumps(res_content))\n",
    "print(res_content['modelInfo']['status'])"
   ]
  },
  {
   "cell_type": "markdown",
   "id": "d1777220",
   "metadata": {},
   "source": [
    "# Asynchronous Inference"
   ]
  },
  {
   "cell_type": "markdown",
   "id": "346728e6",
   "metadata": {},
   "source": [
    "## Trigger asynchronous inference"
   ]
  },
  {
   "cell_type": "code",
   "execution_count": null,
   "id": "46e2597e",
   "metadata": {},
   "outputs": [],
   "source": [
    "# You could change the parameters in the payload to test the API. 👻\n",
    "data = {\n",
    "    \"dataSource\": DATA_SOURCE_URL,\n",
    "    \"topContributorCount\": 10,\n",
    "    \"startTime\": \"2021-01-02T12:00:00Z\", \n",
    "    \"endTime\": \"2021-01-03T00:00:00Z\"\n",
    "}\n",
    "\n",
    "res = requests.post(API_MODEL_BATCH_INFERENCE.format(endpoint=ENDPOINT, model_id=model_id), \n",
    "                    data=json.dumps(data), headers=HEADERS)\n",
    "\n",
    "print(res.headers)\n",
    "print(res.content)\n",
    "assert res.status_code == 202, f\"Error occured. Error message: {res.content}\"\n",
    "result_id = res.headers[\"operation-id\"]\n",
    "print(f\"result id = {result_id}\")"
   ]
  },
  {
   "cell_type": "markdown",
   "id": "f1183788",
   "metadata": {},
   "source": [
    "## Get asynchronous inference results"
   ]
  },
  {
   "cell_type": "code",
   "execution_count": null,
   "id": "df9b1006",
   "metadata": {},
   "outputs": [],
   "source": [
    "res = requests.get(API_RESULTS.format(endpoint=ENDPOINT, result_id=result_id), headers=HEADERS)\n",
    "assert res.status_code == 200, f\"Error occured. Error message: {res.content}\"\n",
    "print(res.content)"
   ]
  },
  {
   "cell_type": "markdown",
   "id": "c1dcbc9f",
   "metadata": {},
   "source": [
    "# Synchronous Inference"
   ]
  },
  {
   "cell_type": "code",
   "execution_count": null,
   "id": "c8f148ed",
   "metadata": {},
   "outputs": [],
   "source": [
    "import json\n",
    "\n",
    "with open(\"5_3000.json\", \"r\") as f:\n",
    "    sample_input = json.load(f)\n",
    "\n",
    "url = API_MODEL_LAST_INFERENCE.format(endpoint=ENDPOINT,model_id=model_id)\n",
    "payload = sample_input\n",
    "\n",
    "res = requests.post(url, headers=HEADERS, data=json.dumps(payload))\n",
    "print(res.content)"
   ]
  },
  {
   "cell_type": "markdown",
   "id": "c80a3c5e",
   "metadata": {},
   "source": [
    "# List models"
   ]
  },
  {
   "cell_type": "code",
   "execution_count": null,
   "id": "44e9b384",
   "metadata": {},
   "outputs": [],
   "source": [
    "res = requests.get(API_MODEL.format(endpoint=ENDPOINT), headers=HEADERS)\n",
    "assert res.status_code == 200, f\"Error occured. Error message: {res.content}\"\n",
    "print(res.content)"
   ]
  },
  {
   "cell_type": "markdown",
   "id": "b9570ebc",
   "metadata": {},
   "source": [
    "# Delete model"
   ]
  },
  {
   "cell_type": "code",
   "execution_count": null,
   "id": "588c4632",
   "metadata": {},
   "outputs": [],
   "source": [
    "res = requests.delete(API_DELETE.format(endpoint=ENDPOINT, model_id=model_id), headers=HEADERS)\n",
    "assert res.status_code == 204, f\"Error occured. Error message: {res.content}\"\n",
    "print(res.content)"
   ]
  }
 ],
 "metadata": {
  "kernelspec": {
   "display_name": "Python 3.8.0 64-bit",
   "language": "python",
   "name": "python3"
  },
  "language_info": {
   "codemirror_mode": {
    "name": "ipython",
    "version": 3
   },
   "file_extension": ".py",
   "mimetype": "text/x-python",
   "name": "python",
   "nbconvert_exporter": "python",
   "pygments_lexer": "ipython3",
   "version": "3.8.0"
  },
  "vscode": {
   "interpreter": {
    "hash": "1904243290a39cbcf2ab2d5c48cccca390150528d86fb93e852d9bcba58f68fe"
   }
  }
 },
 "nbformat": 4,
 "nbformat_minor": 5
}
